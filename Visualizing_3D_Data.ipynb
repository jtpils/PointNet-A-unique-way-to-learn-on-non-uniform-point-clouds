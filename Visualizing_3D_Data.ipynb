{
 "cells": [
  {
   "cell_type": "code",
   "execution_count": 1,
   "metadata": {
    "collapsed": false
   },
   "outputs": [],
   "source": [
    "# This import registers the 3D projection, but is otherwise unused.\n",
    "from mpl_toolkits.mplot3d import Axes3D  # noqa: F401 unused import\n",
    "\n",
    "import matplotlib.pyplot as plt\n",
    "import numpy as np\n",
    "import os\n",
    "import sys\n",
    "import h5py\n",
    "\n",
    "BASE_DIR = os.path.dirname(os.path.abspath('/home/rahulchakwate/My_tensorflow/3D Object Segmentation/PointNet Implementation/data'))\n",
    "sys.path.append(BASE_DIR)\n",
    "\n",
    "\n"
   ]
  },
  {
   "cell_type": "code",
   "execution_count": 2,
   "metadata": {
    "collapsed": true
   },
   "outputs": [],
   "source": [
    "def load_h5(h5_filename):\n",
    "    f = h5py.File(h5_filename)\n",
    "    data = f['data'][:]\n",
    "    label = f['label'][:]\n",
    "    return (data, label)"
   ]
  },
  {
   "cell_type": "code",
   "execution_count": 3,
   "metadata": {
    "collapsed": true
   },
   "outputs": [],
   "source": [
    "def getDataFiles(list_filename):\n",
    "    return [line.rstrip() for line in open(list_filename)]"
   ]
  },
  {
   "cell_type": "code",
   "execution_count": 4,
   "metadata": {
    "collapsed": false
   },
   "outputs": [],
   "source": [
    "TRAIN_FILES = getDataFiles( \\\n",
    "    os.path.join(BASE_DIR, 'data/modelnet40_ply_hdf5_2048/train_files.txt'))"
   ]
  },
  {
   "cell_type": "code",
   "execution_count": 6,
   "metadata": {
    "collapsed": true
   },
   "outputs": [],
   "source": [
    "def loadDataFile(filename):\n",
    "    return load_h5(filename)"
   ]
  },
  {
   "cell_type": "code",
   "execution_count": 7,
   "metadata": {
    "collapsed": false
   },
   "outputs": [],
   "source": [
    "LOG_FOUT = open(os.path.join(BASE_DIR, 'log_train.txt'), 'w')"
   ]
  },
  {
   "cell_type": "code",
   "execution_count": 8,
   "metadata": {
    "collapsed": true
   },
   "outputs": [],
   "source": [
    "def log_string(out_str):\n",
    "    LOG_FOUT.write(out_str+'\\n')\n",
    "    LOG_FOUT.flush()\n",
    "    print(out_str)\n"
   ]
  },
  {
   "cell_type": "code",
   "execution_count": 101,
   "metadata": {
    "collapsed": false
   },
   "outputs": [
    {
     "name": "stdout",
     "output_type": "stream",
     "text": [
      "----0-----\n",
      "----1-----\n",
      "----2-----\n",
      "----3-----\n",
      "----4-----\n"
     ]
    }
   ],
   "source": [
    "def load_3D_data():\n",
    "    \n",
    "\n",
    "    train_file_idxs = np.arange(0, len(TRAIN_FILES))\n",
    "    np.random.shuffle(train_file_idxs)\n",
    "\n",
    "    NUM_POINT=1024\n",
    "    fn=0\n",
    "    log_string('----' + str(fn) + '-----')\n",
    "    current_data, current_label = loadDataFile(TRAIN_FILES[train_file_idxs[fn]])\n",
    "    current_data = current_data[:,0:NUM_POINT,:]\n",
    "    #current_data, current_label, _ = provider.shuffle_data(current_data, np.squeeze(current_label))            \n",
    "    current_label = np.squeeze(current_label)\n",
    "    d0=current_data\n",
    "    l0=current_label\n",
    "\n",
    "    for fn in range(1,len(TRAIN_FILES)):\n",
    "        \n",
    "        log_string('----' + str(fn) + '-----')\n",
    "        current_data, current_label = loadDataFile(TRAIN_FILES[train_file_idxs[fn]])\n",
    "        current_data = current_data[:,0:NUM_POINT,:]\n",
    "        #current_data, current_label, _ = provider.shuffle_data(current_data, np.squeeze(current_label))            \n",
    "        current_label = np.squeeze(current_label)\n",
    "        d1=current_data\n",
    "        l1=current_label\n",
    "        d0=np.concatenate((d0,d1),axis=0)\n",
    "        l0=np.concatenate((l0,l1))\n",
    "\n",
    "    return d0,l0\n"
   ]
  }
 ],
 "metadata": {
  "kernelspec": {
   "display_name": "Python 3",
   "language": "python",
   "name": "python3"
  },
  "language_info": {
   "codemirror_mode": {
    "name": "ipython",
    "version": 3
   },
   "file_extension": ".py",
   "mimetype": "text/x-python",
   "name": "python",
   "nbconvert_exporter": "python",
   "pygments_lexer": "ipython3",
   "version": "3.5.2"
  }
 },
 "nbformat": 4,
 "nbformat_minor": 1
}
